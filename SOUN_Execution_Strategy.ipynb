{
  "nbformat": 4,
  "nbformat_minor": 0,
  "metadata": {
    "colab": {
      "provenance": []
    },
    "kernelspec": {
      "name": "python3",
      "display_name": "Python 3"
    },
    "language_info": {
      "name": "python"
    }
  },
  "cells": [
    {
      "cell_type": "code",
      "execution_count": 1,
      "metadata": {
        "id": "wQl2I--yKOie"
      },
      "outputs": [],
      "source": [
        "import pandas as pd\n",
        "from google.colab import files\n",
        "import io\n",
        "import numpy as np\n",
        "from scipy.optimize import minimize\n",
        "import matplotlib.pyplot as plt"
      ]
    },
    {
      "cell_type": "code",
      "source": [
        "uploaded = files.upload()\n",
        "filename = next(iter(uploaded))\n",
        "df = pd.read_csv(io.BytesIO(uploaded[filename]))"
      ],
      "metadata": {
        "colab": {
          "base_uri": "https://localhost:8080/",
          "height": 73
        },
        "id": "4_ZHXSDpKPd5",
        "outputId": "418e6773-6403-4412-d681-4a0b280ee3de"
      },
      "execution_count": 2,
      "outputs": [
        {
          "output_type": "display_data",
          "data": {
            "text/plain": [
              "<IPython.core.display.HTML object>"
            ],
            "text/html": [
              "\n",
              "     <input type=\"file\" id=\"files-e62047df-0188-4227-9066-0ce56c2ef576\" name=\"files[]\" multiple disabled\n",
              "        style=\"border:none\" />\n",
              "     <output id=\"result-e62047df-0188-4227-9066-0ce56c2ef576\">\n",
              "      Upload widget is only available when the cell has been executed in the\n",
              "      current browser session. Please rerun this cell to enable.\n",
              "      </output>\n",
              "      <script>// Copyright 2017 Google LLC\n",
              "//\n",
              "// Licensed under the Apache License, Version 2.0 (the \"License\");\n",
              "// you may not use this file except in compliance with the License.\n",
              "// You may obtain a copy of the License at\n",
              "//\n",
              "//      http://www.apache.org/licenses/LICENSE-2.0\n",
              "//\n",
              "// Unless required by applicable law or agreed to in writing, software\n",
              "// distributed under the License is distributed on an \"AS IS\" BASIS,\n",
              "// WITHOUT WARRANTIES OR CONDITIONS OF ANY KIND, either express or implied.\n",
              "// See the License for the specific language governing permissions and\n",
              "// limitations under the License.\n",
              "\n",
              "/**\n",
              " * @fileoverview Helpers for google.colab Python module.\n",
              " */\n",
              "(function(scope) {\n",
              "function span(text, styleAttributes = {}) {\n",
              "  const element = document.createElement('span');\n",
              "  element.textContent = text;\n",
              "  for (const key of Object.keys(styleAttributes)) {\n",
              "    element.style[key] = styleAttributes[key];\n",
              "  }\n",
              "  return element;\n",
              "}\n",
              "\n",
              "// Max number of bytes which will be uploaded at a time.\n",
              "const MAX_PAYLOAD_SIZE = 100 * 1024;\n",
              "\n",
              "function _uploadFiles(inputId, outputId) {\n",
              "  const steps = uploadFilesStep(inputId, outputId);\n",
              "  const outputElement = document.getElementById(outputId);\n",
              "  // Cache steps on the outputElement to make it available for the next call\n",
              "  // to uploadFilesContinue from Python.\n",
              "  outputElement.steps = steps;\n",
              "\n",
              "  return _uploadFilesContinue(outputId);\n",
              "}\n",
              "\n",
              "// This is roughly an async generator (not supported in the browser yet),\n",
              "// where there are multiple asynchronous steps and the Python side is going\n",
              "// to poll for completion of each step.\n",
              "// This uses a Promise to block the python side on completion of each step,\n",
              "// then passes the result of the previous step as the input to the next step.\n",
              "function _uploadFilesContinue(outputId) {\n",
              "  const outputElement = document.getElementById(outputId);\n",
              "  const steps = outputElement.steps;\n",
              "\n",
              "  const next = steps.next(outputElement.lastPromiseValue);\n",
              "  return Promise.resolve(next.value.promise).then((value) => {\n",
              "    // Cache the last promise value to make it available to the next\n",
              "    // step of the generator.\n",
              "    outputElement.lastPromiseValue = value;\n",
              "    return next.value.response;\n",
              "  });\n",
              "}\n",
              "\n",
              "/**\n",
              " * Generator function which is called between each async step of the upload\n",
              " * process.\n",
              " * @param {string} inputId Element ID of the input file picker element.\n",
              " * @param {string} outputId Element ID of the output display.\n",
              " * @return {!Iterable<!Object>} Iterable of next steps.\n",
              " */\n",
              "function* uploadFilesStep(inputId, outputId) {\n",
              "  const inputElement = document.getElementById(inputId);\n",
              "  inputElement.disabled = false;\n",
              "\n",
              "  const outputElement = document.getElementById(outputId);\n",
              "  outputElement.innerHTML = '';\n",
              "\n",
              "  const pickedPromise = new Promise((resolve) => {\n",
              "    inputElement.addEventListener('change', (e) => {\n",
              "      resolve(e.target.files);\n",
              "    });\n",
              "  });\n",
              "\n",
              "  const cancel = document.createElement('button');\n",
              "  inputElement.parentElement.appendChild(cancel);\n",
              "  cancel.textContent = 'Cancel upload';\n",
              "  const cancelPromise = new Promise((resolve) => {\n",
              "    cancel.onclick = () => {\n",
              "      resolve(null);\n",
              "    };\n",
              "  });\n",
              "\n",
              "  // Wait for the user to pick the files.\n",
              "  const files = yield {\n",
              "    promise: Promise.race([pickedPromise, cancelPromise]),\n",
              "    response: {\n",
              "      action: 'starting',\n",
              "    }\n",
              "  };\n",
              "\n",
              "  cancel.remove();\n",
              "\n",
              "  // Disable the input element since further picks are not allowed.\n",
              "  inputElement.disabled = true;\n",
              "\n",
              "  if (!files) {\n",
              "    return {\n",
              "      response: {\n",
              "        action: 'complete',\n",
              "      }\n",
              "    };\n",
              "  }\n",
              "\n",
              "  for (const file of files) {\n",
              "    const li = document.createElement('li');\n",
              "    li.append(span(file.name, {fontWeight: 'bold'}));\n",
              "    li.append(span(\n",
              "        `(${file.type || 'n/a'}) - ${file.size} bytes, ` +\n",
              "        `last modified: ${\n",
              "            file.lastModifiedDate ? file.lastModifiedDate.toLocaleDateString() :\n",
              "                                    'n/a'} - `));\n",
              "    const percent = span('0% done');\n",
              "    li.appendChild(percent);\n",
              "\n",
              "    outputElement.appendChild(li);\n",
              "\n",
              "    const fileDataPromise = new Promise((resolve) => {\n",
              "      const reader = new FileReader();\n",
              "      reader.onload = (e) => {\n",
              "        resolve(e.target.result);\n",
              "      };\n",
              "      reader.readAsArrayBuffer(file);\n",
              "    });\n",
              "    // Wait for the data to be ready.\n",
              "    let fileData = yield {\n",
              "      promise: fileDataPromise,\n",
              "      response: {\n",
              "        action: 'continue',\n",
              "      }\n",
              "    };\n",
              "\n",
              "    // Use a chunked sending to avoid message size limits. See b/62115660.\n",
              "    let position = 0;\n",
              "    do {\n",
              "      const length = Math.min(fileData.byteLength - position, MAX_PAYLOAD_SIZE);\n",
              "      const chunk = new Uint8Array(fileData, position, length);\n",
              "      position += length;\n",
              "\n",
              "      const base64 = btoa(String.fromCharCode.apply(null, chunk));\n",
              "      yield {\n",
              "        response: {\n",
              "          action: 'append',\n",
              "          file: file.name,\n",
              "          data: base64,\n",
              "        },\n",
              "      };\n",
              "\n",
              "      let percentDone = fileData.byteLength === 0 ?\n",
              "          100 :\n",
              "          Math.round((position / fileData.byteLength) * 100);\n",
              "      percent.textContent = `${percentDone}% done`;\n",
              "\n",
              "    } while (position < fileData.byteLength);\n",
              "  }\n",
              "\n",
              "  // All done.\n",
              "  yield {\n",
              "    response: {\n",
              "      action: 'complete',\n",
              "    }\n",
              "  };\n",
              "}\n",
              "\n",
              "scope.google = scope.google || {};\n",
              "scope.google.colab = scope.google.colab || {};\n",
              "scope.google.colab._files = {\n",
              "  _uploadFiles,\n",
              "  _uploadFilesContinue,\n",
              "};\n",
              "})(self);\n",
              "</script> "
            ]
          },
          "metadata": {}
        },
        {
          "output_type": "stream",
          "name": "stdout",
          "text": [
            "Saving SOUN_2025-04-03 00_00_00+00_00.csv to SOUN_2025-04-03 00_00_00+00_00.csv\n"
          ]
        }
      ]
    },
    {
      "cell_type": "code",
      "source": [
        "df['ts_event'] = pd.to_datetime(df['ts_event'])\n",
        "df['minute'] = df['ts_event'].dt.floor('T')"
      ],
      "metadata": {
        "colab": {
          "base_uri": "https://localhost:8080/"
        },
        "id": "9GGM0cb0KRhd",
        "outputId": "2b4a4bcb-50b7-411a-cd0a-7c05631a26fa"
      },
      "execution_count": 3,
      "outputs": [
        {
          "output_type": "stream",
          "name": "stderr",
          "text": [
            "/tmp/ipython-input-3376387431.py:2: FutureWarning: 'T' is deprecated and will be removed in a future version, please use 'min' instead.\n",
            "  df['minute'] = df['ts_event'].dt.floor('T')\n"
          ]
        }
      ]
    },
    {
      "cell_type": "code",
      "source": [
        "# Pick the midpoint record for each minute\n",
        "snapshots = []\n",
        "for minute in df['minute'].unique():\n",
        "    minute_df = df[df['minute'] == minute].sort_values('ts_event')\n",
        "    if len(minute_df) > 0:\n",
        "        mid_index = len(minute_df) // 2\n",
        "        snapshots.append(minute_df.iloc[mid_index])\n",
        "\n",
        "snapshot_df = pd.DataFrame(snapshots)\n",
        "\n",
        "# Normalize price columns (stored as integers, need to divide by 1e9)\n",
        "for i in range(1, 11):\n",
        "    suffix = f'0{i}' if i < 10 else f'{i}'\n",
        "    px_col = f'ask_px_{suffix}'\n",
        "    px_col = f'bid_px_{suffix}'\n",
        "\n",
        "# Compute midpoint price\n",
        "snapshot_df['midpoint'] = (snapshot_df['ask_px_01'] + snapshot_df['bid_px_01']) / 2"
      ],
      "metadata": {
        "id": "y7AaVlpkKTTw"
      },
      "execution_count": 12,
      "outputs": []
    },
    {
      "cell_type": "code",
      "source": [
        "# Simulate VWAP function using top 10 levels\n",
        "def simulate_vwap(row, shares_to_buy):\n",
        "    ask_levels = []\n",
        "    for i in range(1, 11):\n",
        "        suffix = f'0{i}' if i < 10 else f'{i}'\n",
        "        px_col = f'ask_px_{suffix}'\n",
        "        sz_col = f'ask_sz_{suffix}'\n",
        "        if px_col in row and sz_col in row:\n",
        "            price = row[px_col]\n",
        "            size = row[sz_col]\n",
        "            if pd.isna(price) or pd.isna(size):\n",
        "                continue\n",
        "            ask_levels.append((price, int(size)))\n",
        "\n",
        "    ask_levels.sort(key=lambda x: x[0])\n",
        "    shares_bought = 0\n",
        "    total_cost = 0.0\n",
        "    for price, size in ask_levels:\n",
        "        if shares_bought + size <= shares_to_buy:\n",
        "            total_cost += price * size\n",
        "            shares_bought += size\n",
        "        else:\n",
        "            fill = shares_to_buy - shares_bought\n",
        "            total_cost += price * fill\n",
        "            shares_bought += fill\n",
        "            break\n",
        "\n",
        "    if shares_bought == 0:\n",
        "        return np.nan, 0\n",
        "    return total_cost / shares_bought, shares_bought"
      ],
      "metadata": {
        "id": "920Jr54yKWD8"
      },
      "execution_count": 13,
      "outputs": []
    },
    {
      "cell_type": "code",
      "source": [
        "# Step 1: Calculate slippage per share using a small test order (ie, 5 shares)\n",
        "sample_shares = 5\n",
        "slippage_per_share = []\n",
        "for idx, row in snapshot_df.iterrows():\n",
        "    vwap, _ = simulate_vwap(row, sample_shares)\n",
        "    if np.isnan(vwap):\n",
        "        slippage_per_share.append(np.inf)\n",
        "    else:\n",
        "        slippage = vwap - row['midpoint']\n",
        "        slippage_per_share.append(slippage)\n",
        "\n",
        "snapshot_df['slippage_per_share'] = slippage_per_share\n",
        "\n",
        "print (snapshot_df['slippage_per_share'])"
      ],
      "metadata": {
        "colab": {
          "base_uri": "https://localhost:8080/"
        },
        "id": "qCUsGJPgKYQO",
        "outputId": "852cbc88-f614-4d73-f8b4-288fff717df3"
      },
      "execution_count": 14,
      "outputs": [
        {
          "output_type": "stream",
          "name": "stdout",
          "text": [
            "1473      0.015\n",
            "3875      0.020\n",
            "6250      0.020\n",
            "9205      0.015\n",
            "11819     0.020\n",
            "          ...  \n",
            "357819    0.015\n",
            "358848    0.015\n",
            "359600    0.015\n",
            "360553    0.015\n",
            "362041    0.015\n",
            "Name: slippage_per_share, Length: 390, dtype: float64\n"
          ]
        }
      ]
    },
    {
      "cell_type": "code",
      "source": [
        "# Step 2: Allocate S (500) shares to minimize slippage\n",
        "S = 5000\n",
        "valid_slippage = snapshot_df['slippage_per_share'].replace([np.inf, -np.inf], np.nan).dropna()\n",
        "weights = 1 / valid_slippage\n",
        "weights = weights / weights.sum()\n",
        "allocation = (weights * S).round().astype(int)\n",
        "\n",
        "# Step 3: Store allocation\n",
        "snapshot_df = snapshot_df.loc[valid_slippage.index].copy()\n",
        "snapshot_df['x_t_allocated'] = allocation\n",
        "\n",
        "# Preview results\n",
        "print(snapshot_df[['minute', 'slippage_per_share', 'x_t_allocated']])"
      ],
      "metadata": {
        "colab": {
          "base_uri": "https://localhost:8080/"
        },
        "id": "ODXDAiGYKaBA",
        "outputId": "765cf22a-7539-4976-8432-0bb91887c25d"
      },
      "execution_count": 15,
      "outputs": [
        {
          "output_type": "stream",
          "name": "stdout",
          "text": [
            "                          minute  slippage_per_share  x_t_allocated\n",
            "1473   2025-04-03 13:30:00+00:00               0.015             13\n",
            "3875   2025-04-03 13:31:00+00:00               0.020             10\n",
            "6250   2025-04-03 13:32:00+00:00               0.020             10\n",
            "9205   2025-04-03 13:33:00+00:00               0.015             13\n",
            "11819  2025-04-03 13:34:00+00:00               0.020             10\n",
            "...                          ...                 ...            ...\n",
            "357819 2025-04-03 19:55:00+00:00               0.015             13\n",
            "358848 2025-04-03 19:56:00+00:00               0.015             13\n",
            "359600 2025-04-03 19:57:00+00:00               0.015             13\n",
            "360553 2025-04-03 19:58:00+00:00               0.015             13\n",
            "362041 2025-04-03 19:59:00+00:00               0.015             13\n",
            "\n",
            "[390 rows x 3 columns]\n"
          ]
        }
      ]
    },
    {
      "cell_type": "code",
      "source": [
        "# Temporary Impact function\n",
        "def plot_temporary_impact(row, max_shares=S):\n",
        "    midpoint = row['midpoint']\n",
        "\n",
        "    slippage = []\n",
        "    order_sizes = list(range(1, max_shares + 1))\n",
        "\n",
        "    for x in order_sizes:\n",
        "        vwap, shares_bought = simulate_vwap(row, x)\n",
        "        if vwap is not None and not np.isnan(vwap):\n",
        "            slippage.append(vwap - midpoint)\n",
        "        else:\n",
        "            break\n",
        "\n",
        "    plt.figure(figsize=(10, 6))\n",
        "    plt.plot(order_sizes[:len(slippage)], slippage, label='gₜ(x) = VWAP(x) - Midpoint')\n",
        "    plt.xlabel('Order Size (x)')\n",
        "    plt.ylabel('Slippage ($)')\n",
        "    plt.title('Temporary Market Impact Function SOUN - Midpoint record first minute of trading')\n",
        "    plt.grid(True)\n",
        "    plt.legend()\n",
        "    plt.tight_layout()\n",
        "    plt.show()\n"
      ],
      "metadata": {
        "id": "g92Mw1pPKb7R"
      },
      "execution_count": 16,
      "outputs": []
    },
    {
      "cell_type": "code",
      "source": [
        "# Plot for the 10th minute snapshot - SOUN\n",
        "plot_temporary_impact(snapshot_df.iloc[0])"
      ],
      "metadata": {
        "colab": {
          "base_uri": "https://localhost:8080/",
          "height": 607
        },
        "id": "mOGUBFraKeEJ",
        "outputId": "61c8be42-8c53-4570-9e93-3eee28f667fb"
      },
      "execution_count": 17,
      "outputs": [
        {
          "output_type": "display_data",
          "data": {
            "text/plain": [
              "<Figure size 1000x600 with 1 Axes>"
            ],
            "image/png": "[encoded data removed]"
          },
          "metadata": {}
        }
      ]
    },
    {
      "cell_type": "code",
      "source": [
        "# Save the allocation DataFrame to CSV\n",
        "snapshot_df[['minute', 'slippage_per_share', 'x_t_allocated']].to_csv(\"slippage_allocations.csv\", index=False)\n",
        "\n",
        "# Download the CSV to your local machine\n",
        "files.download(\"slippage_allocations.csv\")"
      ],
      "metadata": {
        "colab": {
          "base_uri": "https://localhost:8080/",
          "height": 17
        },
        "id": "QqdBm9qiLq6O",
        "outputId": "f3078da4-801f-46fc-9029-d5ed6f84c8f5"
      },
      "execution_count": 18,
      "outputs": [
        {
          "output_type": "display_data",
          "data": {
            "text/plain": [
              "<IPython.core.display.Javascript object>"
            ],
            "application/javascript": [
              "\n",
              "    async function download(id, filename, size) {\n",
              "      if (!google.colab.kernel.accessAllowed) {\n",
              "        return;\n",
              "      }\n",
              "      const div = document.createElement('div');\n",
              "      const label = document.createElement('label');\n",
              "      label.textContent = `Downloading \"${filename}\": `;\n",
              "      div.appendChild(label);\n",
              "      const progress = document.createElement('progress');\n",
              "      progress.max = size;\n",
              "      div.appendChild(progress);\n",
              "      document.body.appendChild(div);\n",
              "\n",
              "      const buffers = [];\n",
              "      let downloaded = 0;\n",
              "\n",
              "      const channel = await google.colab.kernel.comms.open(id);\n",
              "      // Send a message to notify the kernel that we're ready.\n",
              "      channel.send({})\n",
              "\n",
              "      for await (const message of channel.messages) {\n",
              "        // Send a message to notify the kernel that we're ready.\n",
              "        channel.send({})\n",
              "        if (message.buffers) {\n",
              "          for (const buffer of message.buffers) {\n",
              "            buffers.push(buffer);\n",
              "            downloaded += buffer.byteLength;\n",
              "            progress.value = downloaded;\n",
              "          }\n",
              "        }\n",
              "      }\n",
              "      const blob = new Blob(buffers, {type: 'application/binary'});\n",
              "      const a = document.createElement('a');\n",
              "      a.href = window.URL.createObjectURL(blob);\n",
              "      a.download = filename;\n",
              "      div.appendChild(a);\n",
              "      a.click();\n",
              "      div.remove();\n",
              "    }\n",
              "  "
            ]
          },
          "metadata": {}
        },
        {
          "output_type": "display_data",
          "data": {
            "text/plain": [
              "<IPython.core.display.Javascript object>"
            ],
            "application/javascript": [
              "download(\"download_0a414a20-3e8e-4f46-ad22-c3f9737f277f\", \"slippage_allocations.csv\", 19532)"
            ]
          },
          "metadata": {}
        }
      ]
    }
  ]
}
